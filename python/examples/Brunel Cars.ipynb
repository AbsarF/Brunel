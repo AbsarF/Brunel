{
 "cells": [
  {
   "cell_type": "markdown",
   "metadata": {},
   "source": [
    "# Demo of Brunel on Cars Data"
   ]
  },
  {
   "cell_type": "markdown",
   "metadata": {},
   "source": [
    "## The Data\n",
    "\n",
    "We read the data into a pandas data frame. In this case we are grabbing some data that represents cars.\n",
    "We read it in and call the brunel `use` method to ensure the names are usable"
   ]
  },
  {
   "cell_type": "code",
   "execution_count": 1,
   "metadata": {},
   "outputs": [
    {
     "name": "stderr",
     "output_type": "stream",
     "text": [
      ":0: FutureWarning: IPython widgets are experimental and may change in the future.\n"
     ]
    },
    {
     "data": {
      "text/html": [
       "<div style=\"max-height:1000px;max-width:1500px;overflow:auto;\">\n",
       "<table border=\"1\" class=\"dataframe\">\n",
       "  <thead>\n",
       "    <tr style=\"text-align: right;\">\n",
       "      <th></th>\n",
       "      <th>mpg</th>\n",
       "      <th>cylinders</th>\n",
       "      <th>engine</th>\n",
       "      <th>horsepower</th>\n",
       "      <th>weight</th>\n",
       "      <th>acceleration</th>\n",
       "      <th>year</th>\n",
       "      <th>origin</th>\n",
       "      <th>name</th>\n",
       "    </tr>\n",
       "  </thead>\n",
       "  <tbody>\n",
       "    <tr>\n",
       "      <th>0</th>\n",
       "      <td> 18</td>\n",
       "      <td> 8</td>\n",
       "      <td> 307</td>\n",
       "      <td> 130</td>\n",
       "      <td> 3504</td>\n",
       "      <td> 12.0</td>\n",
       "      <td> 70</td>\n",
       "      <td> American</td>\n",
       "      <td> chevrolet chevelle malibu</td>\n",
       "    </tr>\n",
       "    <tr>\n",
       "      <th>1</th>\n",
       "      <td> 15</td>\n",
       "      <td> 8</td>\n",
       "      <td> 350</td>\n",
       "      <td> 165</td>\n",
       "      <td> 3693</td>\n",
       "      <td> 11.5</td>\n",
       "      <td> 70</td>\n",
       "      <td> American</td>\n",
       "      <td>         buick skylark 320</td>\n",
       "    </tr>\n",
       "    <tr>\n",
       "      <th>2</th>\n",
       "      <td> 18</td>\n",
       "      <td> 8</td>\n",
       "      <td> 318</td>\n",
       "      <td> 150</td>\n",
       "      <td> 3436</td>\n",
       "      <td> 11.0</td>\n",
       "      <td> 70</td>\n",
       "      <td> American</td>\n",
       "      <td>        plymouth satellite</td>\n",
       "    </tr>\n",
       "    <tr>\n",
       "      <th>3</th>\n",
       "      <td> 16</td>\n",
       "      <td> 8</td>\n",
       "      <td> 304</td>\n",
       "      <td> 150</td>\n",
       "      <td> 3433</td>\n",
       "      <td> 12.0</td>\n",
       "      <td> 70</td>\n",
       "      <td> American</td>\n",
       "      <td>             amc rebel sst</td>\n",
       "    </tr>\n",
       "    <tr>\n",
       "      <th>4</th>\n",
       "      <td> 17</td>\n",
       "      <td> 8</td>\n",
       "      <td> 302</td>\n",
       "      <td> 140</td>\n",
       "      <td> 3449</td>\n",
       "      <td> 10.5</td>\n",
       "      <td> 70</td>\n",
       "      <td> American</td>\n",
       "      <td>               ford torino</td>\n",
       "    </tr>\n",
       "    <tr>\n",
       "      <th>5</th>\n",
       "      <td> 15</td>\n",
       "      <td> 8</td>\n",
       "      <td> 429</td>\n",
       "      <td> 198</td>\n",
       "      <td> 4341</td>\n",
       "      <td> 10.0</td>\n",
       "      <td> 70</td>\n",
       "      <td> American</td>\n",
       "      <td>          ford galaxie 500</td>\n",
       "    </tr>\n",
       "  </tbody>\n",
       "</table>\n",
       "</div>"
      ]
     },
     "output_type": "execute_result",
     "metadata": {}
    }
   ],
   "source": [
    "import pandas as pd\n",
    "import brunel\n",
    "\n",
    "cars = pd.read_csv(\"data/Cars.csv\")\n",
    "\n",
    "cars.head(6)"
   ]
  },
  {
   "cell_type": "markdown",
   "metadata": {},
   "source": [
    "## Basics\n",
    "We import the Brunel module and create a couple of simple scatterplots.\n",
    "We use the brunel magic to do so\n",
    "\n",
    "The basic format of each call to Brunel is simple; whether it is a single line or a set of lines (a cell magic),\n",
    "they are concatenated together, and the result interprested as one command.\n",
    "\n",
    "This command must start with an `ACTION`, but may have a set of options at the end specified as `ACTION :: OPTIONS`.\n",
    "\n",
    "`ACTION` is the Brunel action string; `OPTIONS` are `key=value` pairs:\n",
    " * `data` defines the pandas dataframe to use. If not specified, the pandas data that best fits the action command will be used\n",
    " * `width` and `height` may be supplied to set the resulting size\n",
    "\n",
    "For details on the Brunel Action languages, see the [Online Docs on Bluemix](http://kubriktrainer.stage1.mybluemix.net/KubrikTrainer/ActionDocs/)"
   ]
  },
  {
   "cell_type": "code",
   "execution_count": 2,
   "metadata": {},
   "outputs": [
    {
     "data": {
      "text/html": [
       "<!--\n",
       "  ~ Copyright (c) 2015 IBM Corporation and others.\n",
       "  ~\n",
       "  ~ Licensed under the Apache License, Version 2.0 (the \"License\");\n",
       "  ~ You may not use this file except in compliance with the License.\n",
       "  ~ You may obtain a copy of the License at\n",
       "  ~\n",
       "  ~ http://www.apache.org/licenses/LICENSE-2.0\n",
       "  ~\n",
       "  ~ Unless required by applicable law or agreed to in writing, software\n",
       "  ~ distributed under the License is distributed on an \"AS IS\" BASIS,\n",
       "  ~ WITHOUT WARRANTIES OR CONDITIONS OF ANY KIND, either express or implied.\n",
       "  ~ See the License for the specific language governing permissions and\n",
       "  ~ limitations under the License.\n",
       "  ~\n",
       "  -->\n",
       "\n",
       "<link rel=\"stylesheet\" type=\"text/css\" href=\"/nbextensions/brunel_ext/BrunelBaseStyles.css\">\n",
       "<link rel=\"stylesheet\" type=\"text/css\" href=\"/nbextensions/brunel_ext/sumoselect/sumoselect.css\">\n",
       "<style>\n",
       "    \n",
       "</style>\n",
       "\n",
       "<svg id=\"visid8e941c70-71d2-11e5-9c52-3c15c2e31290\" width=\"800\" height=\"300\"></svg>"
      ]
     },
     "output_type": "execute_result",
     "metadata": {}
    },
    {
     "metadata": {}
    }
   ],
   "source": [
    "%brunel x(mpg) y(horsepower) color(origin) filter(horsepower)  :: width=800, height=300"
   ]
  },
  {
   "cell_type": "code",
   "execution_count": 3,
   "metadata": {},
   "outputs": [
    {
     "data": {
      "text/html": [
       "<!--\n",
       "  ~ Copyright (c) 2015 IBM Corporation and others.\n",
       "  ~\n",
       "  ~ Licensed under the Apache License, Version 2.0 (the \"License\");\n",
       "  ~ You may not use this file except in compliance with the License.\n",
       "  ~ You may obtain a copy of the License at\n",
       "  ~\n",
       "  ~ http://www.apache.org/licenses/LICENSE-2.0\n",
       "  ~\n",
       "  ~ Unless required by applicable law or agreed to in writing, software\n",
       "  ~ distributed under the License is distributed on an \"AS IS\" BASIS,\n",
       "  ~ WITHOUT WARRANTIES OR CONDITIONS OF ANY KIND, either express or implied.\n",
       "  ~ See the License for the specific language governing permissions and\n",
       "  ~ limitations under the License.\n",
       "  ~\n",
       "  -->\n",
       "\n",
       "<link rel=\"stylesheet\" type=\"text/css\" href=\"/nbextensions/brunel_ext/BrunelBaseStyles.css\">\n",
       "<link rel=\"stylesheet\" type=\"text/css\" href=\"/nbextensions/brunel_ext/sumoselect/sumoselect.css\">\n",
       "<style>\n",
       "    \n",
       "</style>\n",
       "\n",
       "<svg id=\"visid8ebb60f0-71d2-11e5-ace2-3c15c2e31290\" width=\"800\" height=\"300\"></svg>"
      ]
     },
     "output_type": "execute_result",
     "metadata": {}
    },
    {
     "metadata": {}
    }
   ],
   "source": [
    "%brunel x(horsepower) y(weight) color(origin) tooltip(name) filter(year)   :: width=800, height=300"
   ]
  },
  {
   "cell_type": "code",
   "execution_count": 4,
   "metadata": {},
   "outputs": [
    {
     "data": {
      "text/html": [
       "<!--\n",
       "  ~ Copyright (c) 2015 IBM Corporation and others.\n",
       "  ~\n",
       "  ~ Licensed under the Apache License, Version 2.0 (the \"License\");\n",
       "  ~ You may not use this file except in compliance with the License.\n",
       "  ~ You may obtain a copy of the License at\n",
       "  ~\n",
       "  ~ http://www.apache.org/licenses/LICENSE-2.0\n",
       "  ~\n",
       "  ~ Unless required by applicable law or agreed to in writing, software\n",
       "  ~ distributed under the License is distributed on an \"AS IS\" BASIS,\n",
       "  ~ WITHOUT WARRANTIES OR CONDITIONS OF ANY KIND, either express or implied.\n",
       "  ~ See the License for the specific language governing permissions and\n",
       "  ~ limitations under the License.\n",
       "  ~\n",
       "  -->\n",
       "\n",
       "<link rel=\"stylesheet\" type=\"text/css\" href=\"/nbextensions/brunel_ext/BrunelBaseStyles.css\">\n",
       "<link rel=\"stylesheet\" type=\"text/css\" href=\"/nbextensions/brunel_ext/sumoselect/sumoselect.css\">\n",
       "<style>\n",
       "    \n",
       "</style>\n",
       "\n",
       "<svg id=\"visid8ec9c0de-71d2-11e5-990c-3c15c2e31290\" width=\"500\" height=\"400\"></svg>"
      ]
     },
     "output_type": "execute_result",
     "metadata": {}
    },
    {
     "data": {
      "text/plain": [
       "<IPython.core.display.Javascript object>"
      ]
     },
     "execution_count": 4,
     "output_type": "execute_result",
     "metadata": {}
    }
   ],
   "source": [
    "%brunel edge yrange(origin, year) chord size(#count) color(origin) :: width=500, height=400"
   ]
  },
  {
   "cell_type": "code",
   "execution_count": 8,
   "metadata": {},
   "outputs": [
    {
     "data": {
      "text/html": [
       "<!--\n",
       "  ~ Copyright (c) 2015 IBM Corporation and others.\n",
       "  ~\n",
       "  ~ Licensed under the Apache License, Version 2.0 (the \"License\");\n",
       "  ~ You may not use this file except in compliance with the License.\n",
       "  ~ You may obtain a copy of the License at\n",
       "  ~\n",
       "  ~ http://www.apache.org/licenses/LICENSE-2.0\n",
       "  ~\n",
       "  ~ Unless required by applicable law or agreed to in writing, software\n",
       "  ~ distributed under the License is distributed on an \"AS IS\" BASIS,\n",
       "  ~ WITHOUT WARRANTIES OR CONDITIONS OF ANY KIND, either express or implied.\n",
       "  ~ See the License for the specific language governing permissions and\n",
       "  ~ limitations under the License.\n",
       "  ~\n",
       "  -->\n",
       "\n",
       "<link rel=\"stylesheet\" type=\"text/css\" href=\"/nbextensions/brunel_ext/BrunelBaseStyles.css\">\n",
       "<link rel=\"stylesheet\" type=\"text/css\" href=\"/nbextensions/brunel_ext/sumoselect/sumoselect.css\">\n",
       "<style>\n",
       "    \n",
       "</style>\n",
       "\n",
       "<svg id=\"visid27e7ad1c-71d3-11e5-a547-3c15c2e31290\" width=\"900\" height=\"600\"></svg>"
      ]
     },
     "output_type": "execute_result",
     "metadata": {}
    },
    {
     "data": {
      "text/plain": [
       "<IPython.core.display.Javascript object>"
      ]
     },
     "execution_count": 8,
     "output_type": "execute_result",
     "metadata": {}
    }
   ],
   "source": [
    "%brunel treemap x(origin, year, cylinders) color(mpg) mean(mpg) size(#count) label(cylinders) tooltip(#all):: width=900, height=600"
   ]
  },
  {
   "cell_type": "markdown",
   "metadata": {},
   "source": [
    "## Using the Dataframe\n",
    "Since Brunel uses the data frame, we can modify or add to that object to show data in different ways. In the following example we apply a function that takes a name and sees if it matches one of a set of sub-strings. We map this function to the car names to create a new column consisting of the names that match either \"Ford\" or \"Buick\", and use that in our Brunel action.\n",
    "\n",
    "Because the Brunel action is long -- we are adding some CSS styling, we split it into two parts for convenience. "
   ]
  },
  {
   "cell_type": "code",
   "execution_count": 6,
   "metadata": {},
   "outputs": [],
   "source": [
    "def identify(x, search): \n",
    "    for y in search: \n",
    "        if y.lower() in x.lower(): return y\n",
    "    return None\n",
    "\n",
    "cars['Type'] = cars.name.map(lambda x: identify(x, [\"Ford\", \"Buick\"]))"
   ]
  },
  {
   "cell_type": "code",
   "execution_count": 7,
   "metadata": {},
   "outputs": [
    {
     "data": {
      "text/html": [
       "<!--\n",
       "  ~ Copyright (c) 2015 IBM Corporation and others.\n",
       "  ~\n",
       "  ~ Licensed under the Apache License, Version 2.0 (the \"License\");\n",
       "  ~ You may not use this file except in compliance with the License.\n",
       "  ~ You may obtain a copy of the License at\n",
       "  ~\n",
       "  ~ http://www.apache.org/licenses/LICENSE-2.0\n",
       "  ~\n",
       "  ~ Unless required by applicable law or agreed to in writing, software\n",
       "  ~ distributed under the License is distributed on an \"AS IS\" BASIS,\n",
       "  ~ WITHOUT WARRANTIES OR CONDITIONS OF ANY KIND, either express or implied.\n",
       "  ~ See the License for the specific language governing permissions and\n",
       "  ~ limitations under the License.\n",
       "  ~\n",
       "  -->\n",
       "\n",
       "<link rel=\"stylesheet\" type=\"text/css\" href=\"/nbextensions/brunel_ext/BrunelBaseStyles.css\">\n",
       "<link rel=\"stylesheet\" type=\"text/css\" href=\"/nbextensions/brunel_ext/sumoselect/sumoselect.css\">\n",
       "<style>\n",
       "    #visid8edd953e-71d2-11e5-be69-3c15c2e31290.brunel .chart1 text {\n",
       "\tfill: darker;\n",
       "\tfont-size: 14;\n",
       "\tfont-weight: bold;\n",
       "}\n",
       "\n",
       "#visid8edd953e-71d2-11e5-be69-3c15c2e31290.brunel .chart1 .element1 .element {\n",
       "\tfill: #eee;\n",
       "\tsize: 50%;\n",
       "}\n",
       "\n",
       "</style>\n",
       "\n",
       "<svg id=\"visid8edd953e-71d2-11e5-be69-3c15c2e31290\" width=\"800\" height=\"800\"></svg>"
      ]
     },
     "output_type": "execute_result",
     "metadata": {}
    },
    {
     "data": {
      "text/plain": [
       "<IPython.core.display.Javascript object>"
      ]
     },
     "execution_count": 7,
     "output_type": "execute_result",
     "metadata": {}
    }
   ],
   "source": [
    "%%brunel x(engine) y(mpg) color(Type)  style('size:50%; fill:#eee') +\n",
    "     x(engine) y(mpg) color(Type) text style('text {font-size:14; font-weight:bold; fill:darker}')\n",
    "    :: width=800, height=800"
   ]
  },
  {
   "cell_type": "code",
   "execution_count": null,
   "metadata": {},
   "outputs": [],
   "source": [
    ""
   ]
  }
 ],
 "metadata": {
  "celltoolbar": "Raw Cell Format",
  "kernelspec": {
   "display_name": "Python 3",
   "language": "python",
   "name": "python3"
  },
  "language_info": {
   "codemirror_mode": {
    "name": "ipython",
    "version": 3.0
   },
   "file_extension": ".py",
   "mimetype": "text/x-python",
   "name": "python",
   "nbconvert_exporter": "python",
   "pygments_lexer": "ipython3",
   "version": "3.4.2"
  }
 },
 "nbformat": 4,
 "nbformat_minor": 0
}