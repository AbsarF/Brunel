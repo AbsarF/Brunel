{
 "cells": [
  {
   "cell_type": "markdown",
   "metadata": {},
   "source": [
    "# Demo of Brunel on Cars Data"
   ]
  },
  {
   "cell_type": "markdown",
   "metadata": {},
   "source": [
    "## The Data\n",
    "\n",
    "We read the data into a pandas data frame. In this case we are grabbing some data that represents cars.\n",
    "We read it in and call the brunel `use` method to ensure the names are usable"
   ]
  },
  {
   "cell_type": "code",
   "execution_count": null,
   "metadata": {
    "collapsed": false
   },
   "outputs": [],
   "source": [
    "import pandas as pd\n",
    "import brunel\n",
    "\n",
    "cars = pd.read_csv(\"data/cars.csv\")\n",
    "\n",
    "cars.head(6)"
   ]
  },
  {
   "cell_type": "markdown",
   "metadata": {},
   "source": [
    "## Basics\n",
    "We import the Brunel module and create a couple of simple scatterplots.\n",
    "We use the brunel magic to do so\n",
    "\n",
    "The basic format of each call to Brunel is simple; whether it is a single line or a set of lines (a cell magic),\n",
    "they are concatenated together, and the result interprested as one command.\n",
    "\n",
    "This command must start with an `ACTION`, but may have a set of options at the end specified as `ACTION :: OPTIONS`.\n",
    "\n",
    "`ACTION` is the Brunel action string; `OPTIONS` are `key=value` pairs:\n",
    " * `data` defines the pandas dataframe to use. If not specified, the pandas data that best fits the action command will be used\n",
    " * `width` and `height` may be supplied to set the resulting size\n",
    "\n",
    "For details on the Brunel Action languages, see the [Online Docs on Bluemix](http://kubriktrainer.stage1.mybluemix.net/KubrikTrainer/ActionDocs/)"
   ]
  },
  {
   "cell_type": "code",
   "execution_count": null,
   "metadata": {
    "collapsed": false
   },
   "outputs": [],
   "source": [
    "%brunel x(mpg) y(horsepower) color(origin) filter(horsepower)  :: width=800, height=300"
   ]
  },
  {
   "cell_type": "code",
   "execution_count": null,
   "metadata": {
    "collapsed": false
   },
   "outputs": [],
   "source": [
    "%brunel x(horsepower) y(weight) color(origin) tooltip(name) filter(year)   :: width=800, height=300"
   ]
  },
  {
   "cell_type": "code",
   "execution_count": null,
   "metadata": {
    "collapsed": false
   },
   "outputs": [],
   "source": [
    "%brunel edge yrange(origin, year) chord size(#count) color(origin) :: width=500, height=400"
   ]
  },
  {
   "cell_type": "code",
   "execution_count": null,
   "metadata": {
    "collapsed": false
   },
   "outputs": [],
   "source": [
    "%brunel treemap x(origin, year, cylinders) color(mpg) mean(mpg) size(#count) label(cylinders) tooltip(#all):: width=900, height=600"
   ]
  },
  {
   "cell_type": "markdown",
   "metadata": {},
   "source": [
    "## Using the Dataframe\n",
    "Since Brunel uses the data frame, we can modify or add to that object to show data in different ways. In the following example we apply a function that takes a name and sees if it matches one of a set of sub-strings. We map this function to the car names to create a new column consisting of the names that match either \"Ford\" or \"Buick\", and use that in our Brunel action.\n",
    "\n",
    "Because the Brunel action is long -- we are adding some CSS styling, we split it into two parts for convenience. "
   ]
  },
  {
   "cell_type": "code",
   "execution_count": null,
   "metadata": {
    "collapsed": true
   },
   "outputs": [],
   "source": [
    "def identify(x, search): \n",
    "    for y in search: \n",
    "        if y.lower() in x.lower(): return y\n",
    "    return None\n",
    "\n",
    "cars['Type'] = cars.name.map(lambda x: identify(x, [\"Ford\", \"Buick\"]))"
   ]
  },
  {
   "cell_type": "code",
   "execution_count": null,
   "metadata": {
    "collapsed": false
   },
   "outputs": [],
   "source": [
    "%%brunel x(engine) y(mpg) color(Type)  style('size:50%; fill:#eee') +\n",
    "     x(engine) y(mpg) color(Type) text style('text {font-size:14; font-weight:bold; fill:darker}')\n",
    "    :: width=800, height=800"
   ]
  },
  {
   "cell_type": "code",
   "execution_count": null,
   "metadata": {
    "collapsed": true
   },
   "outputs": [],
   "source": []
  }
 ],
 "metadata": {
  "celltoolbar": "Raw Cell Format",
  "kernelspec": {
   "display_name": "Python 3",
   "language": "python",
   "name": "python3"
  },
  "language_info": {
   "codemirror_mode": {
    "name": "ipython",
    "version": 3
   },
   "file_extension": ".py",
   "mimetype": "text/x-python",
   "name": "python",
   "nbconvert_exporter": "python",
   "pygments_lexer": "ipython3",
   "version": "3.4.3"
  }
 },
 "nbformat": 4,
 "nbformat_minor": 0
}
