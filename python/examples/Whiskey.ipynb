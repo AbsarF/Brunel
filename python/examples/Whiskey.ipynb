{
 "cells": [
  {
   "cell_type": "markdown",
   "metadata": {},
   "source": [
    "# Whiskey Data\n",
    "\n",
    "This data set contains data on a small number of whiskies"
   ]
  },
  {
   "cell_type": "code",
   "execution_count": 2,
   "metadata": {},
   "outputs": [
    {
     "ename": "ImportError",
     "evalue": "No module named 'brunel'",
     "output_type": "error",
     "traceback": [
      "\u001b[0;31m---------------------------------------------------------------------------\u001b[0m",
      "\u001b[0;31mImportError\u001b[0m                               Traceback (most recent call last)",
      "\u001b[0;32m<ipython-input-2-14636fd5e390>\u001b[0m in \u001b[0;36m<module>\u001b[0;34m()\u001b[0m\n\u001b[1;32m      1\u001b[0m \u001b[0;32mimport\u001b[0m \u001b[0mpandas\u001b[0m \u001b[0;32mas\u001b[0m \u001b[0mpd\u001b[0m\u001b[0;34m\u001b[0m\u001b[0m\n\u001b[1;32m      2\u001b[0m \u001b[0;32mfrom\u001b[0m \u001b[0mnumpy\u001b[0m \u001b[0;32mimport\u001b[0m \u001b[0mlog\u001b[0m\u001b[0;34m,\u001b[0m \u001b[0mabs\u001b[0m\u001b[0;34m,\u001b[0m \u001b[0msign\u001b[0m\u001b[0;34m,\u001b[0m \u001b[0msqrt\u001b[0m\u001b[0;34m\u001b[0m\u001b[0m\n\u001b[0;32m----> 3\u001b[0;31m \u001b[0;32mimport\u001b[0m \u001b[0mbrunel\u001b[0m\u001b[0;34m\u001b[0m\u001b[0m\n\u001b[0m\u001b[1;32m      4\u001b[0m \u001b[0;34m\u001b[0m\u001b[0m\n\u001b[1;32m      5\u001b[0m \u001b[0mdata\u001b[0m \u001b[0;34m=\u001b[0m \u001b[0mpd\u001b[0m\u001b[0;34m.\u001b[0m\u001b[0mread_csv\u001b[0m\u001b[0;34m(\u001b[0m\u001b[0;34m\"data/whiskey.csv\"\u001b[0m\u001b[0;34m)\u001b[0m\u001b[0;34m\u001b[0m\u001b[0m\n",
      "\u001b[0;31mImportError\u001b[0m: No module named 'brunel'"
     ]
    }
   ],
   "source": [
    "import pandas as pd\n",
    "from numpy import log, abs, sign, sqrt\n",
    "import brunel\n",
    "\n",
    "data = pd.read_csv(\"data/whiskey.csv\")\n",
    "\n",
    "print('Data on whiskies:', ', '.join(data.columns))"
   ]
  },
  {
   "cell_type": "markdown",
   "metadata": {},
   "source": [
    "## Summaries\n",
    "Shown below are the following charts:\n",
    "\n",
    " * A treemap display for each whiskey, broken down by _country_ and _category_. The cells are colored by the rating, with lower-rated whiskies in blue, and higher-rated in reds. Missing data for ratings show as black.\n",
    " * A filtered chart allowing you to select whiskeys based on price and category\n",
    " * A line chart showing the relationship between _age_ and _rating_. A simple treemap of categories is linked to this chart\n",
    " * A bubble chart of countries linked to a heatmap of alcohol level (_ABV_) by _rating_"
   ]
  },
  {
   "cell_type": "code",
   "execution_count": 1,
   "metadata": {},
   "outputs": [
    {
     "name": "stderr",
     "output_type": "stream",
     "text": [
      "ERROR: Line magic function `%brunel` not found.\n"
     ]
    }
   ],
   "source": [
    "%brunel x(country, category) color(rating) treemap label(name:3) tooltip(#all) style('.label {font-size:7pt}') legends(none):: width=900, height=600"
   ]
  },
  {
   "cell_type": "code",
   "execution_count": 3,
   "metadata": {},
   "outputs": [
    {
     "data": {
      "text/html": [
       "<!--\n",
       "  ~ Copyright (c) 2015 IBM Corporation and others.\n",
       "  ~\n",
       "  ~ Licensed under the Apache License, Version 2.0 (the \"License\");\n",
       "  ~ You may not use this file except in compliance with the License.\n",
       "  ~ You may obtain a copy of the License at\n",
       "  ~\n",
       "  ~ http://www.apache.org/licenses/LICENSE-2.0\n",
       "  ~\n",
       "  ~ Unless required by applicable law or agreed to in writing, software\n",
       "  ~ distributed under the License is distributed on an \"AS IS\" BASIS,\n",
       "  ~ WITHOUT WARRANTIES OR CONDITIONS OF ANY KIND, either express or implied.\n",
       "  ~ See the License for the specific language governing permissions and\n",
       "  ~ limitations under the License.\n",
       "  ~\n",
       "  -->\n",
       "\n",
       "<link rel=\"stylesheet\" type=\"text/css\" href=\"/nbextensions/brunel_ext/BrunelBaseStyles.css\">\n",
       "<link rel=\"stylesheet\" type=\"text/css\" href=\"/nbextensions/brunel_ext/sumoselect/sumoselect.css\">\n",
       "<style>\n",
       "    \n",
       "</style>\n",
       "\n",
       "<svg id=\"visidc212ee1e-6135-11e5-b9e5-3c970e9db0cb\" width=\"500\" height=\"500\"></svg>"
      ]
     },
     "output_type": "execute_result",
     "metadata": {}
    },
    {
     "metadata": {}
    }
   ],
   "source": [
    "%brunel bubble color(rating:red) sort(rating) size(abv) label(name:6) tooltip(#all) filter(price, category) :: height=500"
   ]
  },
  {
   "cell_type": "code",
   "execution_count": 4,
   "metadata": {},
   "outputs": [
    {
     "data": {
      "text/html": [
       "<!--\n",
       "  ~ Copyright (c) 2015 IBM Corporation and others.\n",
       "  ~\n",
       "  ~ Licensed under the Apache License, Version 2.0 (the \"License\");\n",
       "  ~ You may not use this file except in compliance with the License.\n",
       "  ~ You may obtain a copy of the License at\n",
       "  ~\n",
       "  ~ http://www.apache.org/licenses/LICENSE-2.0\n",
       "  ~\n",
       "  ~ Unless required by applicable law or agreed to in writing, software\n",
       "  ~ distributed under the License is distributed on an \"AS IS\" BASIS,\n",
       "  ~ WITHOUT WARRANTIES OR CONDITIONS OF ANY KIND, either express or implied.\n",
       "  ~ See the License for the specific language governing permissions and\n",
       "  ~ limitations under the License.\n",
       "  ~\n",
       "  -->\n",
       "\n",
       "<link rel=\"stylesheet\" type=\"text/css\" href=\"/nbextensions/brunel_ext/BrunelBaseStyles.css\">\n",
       "<link rel=\"stylesheet\" type=\"text/css\" href=\"/nbextensions/brunel_ext/sumoselect/sumoselect.css\">\n",
       "<style>\n",
       "    #visida007eab0-612c-11e5-9646-3c970e9db0cb.brunel .chart2 .labels .label {\n",
       "\tfont-size: 14px;\n",
       "}\n",
       "\n",
       "</style>\n",
       "\n",
       "<svg id=\"visida007eab0-612c-11e5-9646-3c970e9db0cb\" width=\"900\" height=\"400\"></svg>"
      ]
     },
     "output_type": "execute_result",
     "metadata": {}
    },
    {
     "data": {
      "text/plain": [
       "<IPython.core.display.Javascript object>"
      ]
     },
     "execution_count": 4,
     "output_type": "execute_result",
     "metadata": {}
    }
   ],
   "source": [
    "%%brunel \n",
    "line x(age) y(rating) mean(rating) label(country)  using(interpolate) bin(age:8) color(#selection) legends(none) \n",
    "| treemap x(category) interaction(select) size(#count) color(#selection) legends(none) sort(#count:ascending) bin(category:9)\n",
    "        tooltip(country) list(country) label(#count) style('.labels .label {font-size:14px}')\n",
    ":: width=900"
   ]
  },
  {
   "cell_type": "code",
   "execution_count": 5,
   "metadata": {},
   "outputs": [
    {
     "data": {
      "text/html": [
       "<!--\n",
       "  ~ Copyright (c) 2015 IBM Corporation and others.\n",
       "  ~\n",
       "  ~ Licensed under the Apache License, Version 2.0 (the \"License\");\n",
       "  ~ You may not use this file except in compliance with the License.\n",
       "  ~ You may obtain a copy of the License at\n",
       "  ~\n",
       "  ~ http://www.apache.org/licenses/LICENSE-2.0\n",
       "  ~\n",
       "  ~ Unless required by applicable law or agreed to in writing, software\n",
       "  ~ distributed under the License is distributed on an \"AS IS\" BASIS,\n",
       "  ~ WITHOUT WARRANTIES OR CONDITIONS OF ANY KIND, either express or implied.\n",
       "  ~ See the License for the specific language governing permissions and\n",
       "  ~ limitations under the License.\n",
       "  ~\n",
       "  -->\n",
       "\n",
       "<link rel=\"stylesheet\" type=\"text/css\" href=\"/nbextensions/brunel_ext/BrunelBaseStyles.css\">\n",
       "<link rel=\"stylesheet\" type=\"text/css\" href=\"/nbextensions/brunel_ext/sumoselect/sumoselect.css\">\n",
       "<style>\n",
       "    #visidfa46f5d2-6135-11e5-8a28-3c970e9db0cb.brunel .chart2 .element1 .element {\n",
       "\tstroke: none;\n",
       "\tsymbol: rect;\n",
       "\tsize: 100%;\n",
       "}\n",
       "\n",
       "</style>\n",
       "\n",
       "<svg id=\"visidfa46f5d2-6135-11e5-8a28-3c970e9db0cb\" width=\"900\" height=\"600\"></svg>"
      ]
     },
     "output_type": "execute_result",
     "metadata": {}
    },
    {
     "data": {
      "text/plain": [
       "<IPython.core.display.Javascript object>"
      ]
     },
     "execution_count": 5,
     "output_type": "execute_result",
     "metadata": {}
    }
   ],
   "source": [
    "%%brunel \n",
    "bubble label(country:3) bin(country) size(#count) color(#selection) sort(#count) interaction(select) tooltip(name) list(name) legends(none)\n",
    "| x(abv) y(rating) color(#count:blue) legends(none) bin(abv:8) bin(rating:5) style('symbol:rect; stroke:none; size:100%')  at(0,10,70,100)\n",
    "        interaction(select) label(#selection) list(#selection)  at(60,15,100,100) tooltip(rating, abv,#count) legends(none) \n",
    "|  bar label(brand:70) list(brand) at(0,0, 100, 10) axes(none) color(#selection) legends(none) interaction(filter)\n",
    ":: width=900, height=600"
   ]
  },
  {
   "cell_type": "markdown",
   "metadata": {},
   "source": [
    "## Some Analysis\n",
    "Here we use the sci-kit decision tree regression tool to predict the price of a whiskey given its age, rating and ABV value.\n",
    "We transform the output for plotting purposes, but note that the tooltips give the original data"
   ]
  },
  {
   "cell_type": "code",
   "execution_count": 4,
   "metadata": {},
   "outputs": [
    {
     "data": {
      "text/html": [
       "<!--\n",
       "  ~ Copyright (c) 2015 IBM Corporation and others.\n",
       "  ~\n",
       "  ~ Licensed under the Apache License, Version 2.0 (the \"License\");\n",
       "  ~ You may not use this file except in compliance with the License.\n",
       "  ~ You may obtain a copy of the License at\n",
       "  ~\n",
       "  ~ http://www.apache.org/licenses/LICENSE-2.0\n",
       "  ~\n",
       "  ~ Unless required by applicable law or agreed to in writing, software\n",
       "  ~ distributed under the License is distributed on an \"AS IS\" BASIS,\n",
       "  ~ WITHOUT WARRANTIES OR CONDITIONS OF ANY KIND, either express or implied.\n",
       "  ~ See the License for the specific language governing permissions and\n",
       "  ~ limitations under the License.\n",
       "  ~\n",
       "  -->\n",
       "\n",
       "<link rel=\"stylesheet\" type=\"text/css\" href=\"/nbextensions/brunel_ext/BrunelBaseStyles.css\">\n",
       "<link rel=\"stylesheet\" type=\"text/css\" href=\"/nbextensions/brunel_ext/sumoselect/sumoselect.css\">\n",
       "<style>\n",
       "    \n",
       "</style>\n",
       "\n",
       "<svg id=\"visideeb25024-6135-11e5-b8fa-3c970e9db0cb\" width=\"700\" height=\"400\"></svg>"
      ]
     },
     "output_type": "execute_result",
     "metadata": {}
    },
    {
     "data": {
      "text/plain": [
       "<IPython.core.display.Javascript object>"
      ]
     },
     "execution_count": 4,
     "output_type": "execute_result",
     "metadata": {}
    }
   ],
   "source": [
    "from sklearn import tree\n",
    "D = data[['Name', 'ABV', 'Age', 'Rating', 'Price']].dropna()\n",
    "X = D[ ['ABV', 'Age', 'Rating'] ]\n",
    "y = D['Price']\n",
    "clf = tree.DecisionTreeRegressor(min_samples_leaf=4)\n",
    "clf.fit(X, y)\n",
    "D['Predicted'] = clf.predict(X)\n",
    "f = D['Predicted'] - D['Price']\n",
    "D['Diff'] = sqrt(abs(f)) * sign(f)\n",
    "D['LPrice'] = log(y)\n",
    "%brunel y(diff) x(LPrice) tooltip(name, price, predicted, rating) color(rating)  :: width=700"
   ]
  },
  {
   "cell_type": "markdown",
   "metadata": {},
   "source": [
    "# Simple Linked Charts "
   ]
  },
  {
   "cell_type": "code",
   "execution_count": 10,
   "metadata": {},
   "outputs": [
    {
     "data": {
      "text/html": [
       "<!--\n",
       "  ~ Copyright (c) 2015 IBM Corporation and others.\n",
       "  ~\n",
       "  ~ Licensed under the Apache License, Version 2.0 (the \"License\");\n",
       "  ~ You may not use this file except in compliance with the License.\n",
       "  ~ You may obtain a copy of the License at\n",
       "  ~\n",
       "  ~ http://www.apache.org/licenses/LICENSE-2.0\n",
       "  ~\n",
       "  ~ Unless required by applicable law or agreed to in writing, software\n",
       "  ~ distributed under the License is distributed on an \"AS IS\" BASIS,\n",
       "  ~ WITHOUT WARRANTIES OR CONDITIONS OF ANY KIND, either express or implied.\n",
       "  ~ See the License for the specific language governing permissions and\n",
       "  ~ limitations under the License.\n",
       "  ~\n",
       "  -->\n",
       "\n",
       "<link rel=\"stylesheet\" type=\"text/css\" href=\"/nbextensions/brunel_ext/BrunelBaseStyles.css\">\n",
       "<link rel=\"stylesheet\" type=\"text/css\" href=\"/nbextensions/brunel_ext/sumoselect/sumoselect.css\">\n",
       "<style>\n",
       "    \n",
       "</style>\n",
       "\n",
       "<svg id=\"visid0ce349e2-6111-11e5-a02f-3c970e9db0cb\" width=\"900\" height=\"300\"></svg>"
      ]
     },
     "output_type": "execute_result",
     "metadata": {}
    },
    {
     "data": {
      "text/plain": [
       "<IPython.core.display.Javascript object>"
      ]
     },
     "execution_count": 10,
     "output_type": "execute_result",
     "metadata": {}
    }
   ],
   "source": [
    "%%brunel bar x(country) y(#count)\n",
    "    | bar color(category) y(#count) polar stack label(category) legends(none)\n",
    "    :: width=900, height=300"
   ]
  },
  {
   "cell_type": "code",
   "execution_count": null,
   "metadata": {},
   "outputs": [],
   "source": [
    ""
   ]
  }
 ],
 "metadata": {
  "kernelspec": {
   "display_name": "Python 3",
   "language": "python",
   "name": "python3"
  },
  "language_info": {
   "codemirror_mode": {
    "name": "ipython",
    "version": 3.0
   },
   "file_extension": ".py",
   "mimetype": "text/x-python",
   "name": "python",
   "nbconvert_exporter": "python",
   "pygments_lexer": "ipython3",
   "version": "3.4.3"
  }
 },
 "nbformat": 4,
 "nbformat_minor": 0
}